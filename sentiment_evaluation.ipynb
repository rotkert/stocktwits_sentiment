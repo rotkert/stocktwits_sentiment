{
 "cells": [
  {
   "cell_type": "code",
   "execution_count": 1,
   "metadata": {},
   "outputs": [],
   "source": [
    "import pandas as pd\n",
    "from sklearn.metrics import accuracy_score, f1_score"
   ]
  },
  {
   "cell_type": "code",
   "execution_count": 2,
   "metadata": {},
   "outputs": [],
   "source": [
    "symbols = ['aapl', 'btc', 'eth', 'spx']"
   ]
  },
  {
   "cell_type": "code",
   "execution_count": 3,
   "metadata": {},
   "outputs": [],
   "source": [
    "scores = []\n",
    "for symbol in symbols:\n",
    "    data = pd.read_pickle('data/stocktwits/datasets_clean/' + symbol + '_twits_012018_072019_clean.pickle')\n",
    "    on_sent = pd.read_pickle('data/stocktwits/on_sentiment/on_' + symbol + '_sentiment.pickle')\n",
    "    vader_sent = pd.read_pickle('data/stocktwits/vader_sentiment/vader_' + symbol + '_sentiment.pickle')\n",
    "    bert_sent = pd.read_pickle('data/stocktwits/bert_sentiment/bert_' + symbol + '_sentiment.pickle')\n",
    "    bert_unb_sent = pd.read_pickle('data/stocktwits/bert_unb_sentiment/bert_unb_' + symbol + '_sentiment.pickle')\n",
    "    \n",
    "    data = data.replace({'sentiment_declared' : {'Bearish' : 0, 'Bullish' : 1}})\n",
    "    data['sentiment_on'] = (on_sent.sentiment >= 0) + 0\n",
    "    data['sentiment_vader'] = (vader_sent.score >= 0) + 0\n",
    "    data['sentiment_bert'] = bert_sent.replace({'pred_label' : {'Negative' : 0, 'Positive': 1}}).pred_label\n",
    "    data['sentiment_bert_unb'] = bert_unb_sent.replace({'pred_label' : {'Negative' : 0, 'Positive': 1}}).pred_label\n",
    "    \n",
    "    data = data.dropna()\n",
    "    \n",
    "    pos_ratio = round(data.sentiment_declared.sum() / len(data), 3)\n",
    "    on_acc = accuracy_score(data.sentiment_declared, data.sentiment_on)\n",
    "    vader_acc = accuracy_score(data.sentiment_declared, data.sentiment_vader)\n",
    "    bert_acc = accuracy_score(data.sentiment_declared, data.sentiment_bert)\n",
    "    bert_unb_acc = accuracy_score(data.sentiment_declared, data.sentiment_bert_unb)\n",
    "    \n",
    "    on_f1 = f1_score(data.sentiment_declared, data.sentiment_on)\n",
    "    vader_f1 = f1_score(data.sentiment_declared, data.sentiment_vader)\n",
    "    bert_f1 = f1_score(data.sentiment_declared, data.sentiment_bert)\n",
    "    bert_unb_f1 = f1_score(data.sentiment_declared, data.sentiment_bert_unb)\n",
    "    scores.append([len(data), pos_ratio, on_acc, vader_acc, bert_acc, bert_unb_acc, on_f1, vader_f1, bert_f1, bert_unb_f1])                             "
   ]
  },
  {
   "cell_type": "code",
   "execution_count": 4,
   "metadata": {},
   "outputs": [],
   "source": [
    "scores_df = pd.DataFrame(scores, index=symbols, columns=['data_size', 'pos_ratio', 'on_acc', 'vader_acc', 'bert_acc', 'bert_unb_acc', 'on_f1', 'vader_f1', 'bert_f1', 'bert_unb_f1'])"
   ]
  },
  {
   "cell_type": "code",
   "execution_count": 5,
   "metadata": {},
   "outputs": [
    {
     "data": {
      "text/html": [
       "<div>\n",
       "<style scoped>\n",
       "    .dataframe tbody tr th:only-of-type {\n",
       "        vertical-align: middle;\n",
       "    }\n",
       "\n",
       "    .dataframe tbody tr th {\n",
       "        vertical-align: top;\n",
       "    }\n",
       "\n",
       "    .dataframe thead th {\n",
       "        text-align: right;\n",
       "    }\n",
       "</style>\n",
       "<table border=\"1\" class=\"dataframe\">\n",
       "  <thead>\n",
       "    <tr style=\"text-align: right;\">\n",
       "      <th></th>\n",
       "      <th>data_size</th>\n",
       "      <th>pos_ratio</th>\n",
       "      <th>on_acc</th>\n",
       "      <th>vader_acc</th>\n",
       "      <th>bert_acc</th>\n",
       "      <th>bert_unb_acc</th>\n",
       "      <th>on_f1</th>\n",
       "      <th>vader_f1</th>\n",
       "      <th>bert_f1</th>\n",
       "      <th>bert_unb_f1</th>\n",
       "    </tr>\n",
       "  </thead>\n",
       "  <tbody>\n",
       "    <tr>\n",
       "      <th>aapl</th>\n",
       "      <td>204710</td>\n",
       "      <td>0.682</td>\n",
       "      <td>0.593786</td>\n",
       "      <td>0.663729</td>\n",
       "      <td>0.775780</td>\n",
       "      <td>0.824493</td>\n",
       "      <td>0.683834</td>\n",
       "      <td>0.769666</td>\n",
       "      <td>0.820881</td>\n",
       "      <td>0.881354</td>\n",
       "    </tr>\n",
       "    <tr>\n",
       "      <th>btc</th>\n",
       "      <td>407992</td>\n",
       "      <td>0.721</td>\n",
       "      <td>0.632091</td>\n",
       "      <td>0.677739</td>\n",
       "      <td>0.749083</td>\n",
       "      <td>0.830913</td>\n",
       "      <td>0.730944</td>\n",
       "      <td>0.784805</td>\n",
       "      <td>0.806952</td>\n",
       "      <td>0.890202</td>\n",
       "    </tr>\n",
       "    <tr>\n",
       "      <th>eth</th>\n",
       "      <td>63619</td>\n",
       "      <td>0.816</td>\n",
       "      <td>0.693488</td>\n",
       "      <td>0.757997</td>\n",
       "      <td>0.792578</td>\n",
       "      <td>0.893475</td>\n",
       "      <td>0.796947</td>\n",
       "      <td>0.852954</td>\n",
       "      <td>0.860749</td>\n",
       "      <td>0.936759</td>\n",
       "    </tr>\n",
       "    <tr>\n",
       "      <th>spx</th>\n",
       "      <td>36483</td>\n",
       "      <td>0.516</td>\n",
       "      <td>0.569608</td>\n",
       "      <td>0.595592</td>\n",
       "      <td>0.755667</td>\n",
       "      <td>0.736590</td>\n",
       "      <td>0.613118</td>\n",
       "      <td>0.678268</td>\n",
       "      <td>0.745707</td>\n",
       "      <td>0.784915</td>\n",
       "    </tr>\n",
       "  </tbody>\n",
       "</table>\n",
       "</div>"
      ],
      "text/plain": [
       "      data_size  pos_ratio    on_acc  vader_acc  bert_acc  bert_unb_acc  \\\n",
       "aapl     204710      0.682  0.593786   0.663729  0.775780      0.824493   \n",
       "btc      407992      0.721  0.632091   0.677739  0.749083      0.830913   \n",
       "eth       63619      0.816  0.693488   0.757997  0.792578      0.893475   \n",
       "spx       36483      0.516  0.569608   0.595592  0.755667      0.736590   \n",
       "\n",
       "         on_f1  vader_f1   bert_f1  bert_unb_f1  \n",
       "aapl  0.683834  0.769666  0.820881     0.881354  \n",
       "btc   0.730944  0.784805  0.806952     0.890202  \n",
       "eth   0.796947  0.852954  0.860749     0.936759  \n",
       "spx   0.613118  0.678268  0.745707     0.784915  "
      ]
     },
     "execution_count": 5,
     "metadata": {},
     "output_type": "execute_result"
    }
   ],
   "source": [
    "scores_df"
   ]
  }
 ],
 "metadata": {
  "kernelspec": {
   "display_name": "Python 3",
   "language": "python",
   "name": "python3"
  },
  "language_info": {
   "codemirror_mode": {
    "name": "ipython",
    "version": 3
   },
   "file_extension": ".py",
   "mimetype": "text/x-python",
   "name": "python",
   "nbconvert_exporter": "python",
   "pygments_lexer": "ipython3",
   "version": "3.6.8"
  }
 },
 "nbformat": 4,
 "nbformat_minor": 2
}
