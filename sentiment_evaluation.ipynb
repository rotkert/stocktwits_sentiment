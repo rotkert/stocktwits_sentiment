{
 "cells": [
  {
   "cell_type": "code",
   "execution_count": 1,
   "metadata": {},
   "outputs": [],
   "source": [
    "import pandas as pd\n",
    "from sklearn.metrics import accuracy_score, f1_score"
   ]
  },
  {
   "cell_type": "code",
   "execution_count": 2,
   "metadata": {},
   "outputs": [],
   "source": [
    "symbols = ['aapl', 'btc', 'eth', 'spx']"
   ]
  },
  {
   "cell_type": "code",
   "execution_count": 3,
   "metadata": {},
   "outputs": [],
   "source": [
    "scores = []\n",
    "for symbol in symbols:\n",
    "    data = pd.read_pickle('data/stocktwits/datasets_clean/' + symbol + '_twits_012018_072019_clean.pickle')\n",
    "    on_sent = pd.read_pickle('data/stocktwits/on_sentiment/on_' + symbol + '_sentiment.pickle')\n",
    "    vader_sent = pd.read_pickle('data/stocktwits/vader_sentiment/vader_' + symbol + '_sentiment.pickle')\n",
    "    bert_sent = pd.read_pickle('data/stocktwits/bert_sentiment/bert_' + symbol + '_sentiment.pickle')\n",
    "    bert_unb_sent = pd.read_pickle('data/stocktwits/bert_unb_sentiment/bert_unb_' + symbol + '_sentiment.pickle')\n",
    "    \n",
    "    data = data.replace({'sentiment_declared' : {'Bearish' : 0, 'Bullish' : 1}})\n",
    "    data['sentiment_on'] = (on_sent.sentiment >= 0) + 0\n",
    "    data['sentiment_vader'] = (vader_sent.score >= 0) + 0\n",
    "    data['sentiment_bert_unb'] = bert_unb_sent.replace({'pred_label' : {'Negative' : 0, 'Positive': 1}}).pred_label\n",
    "    \n",
    "    data = data.dropna()\n",
    "    data.index = pd.to_datetime(data.created_at)\n",
    "    data = data.tz_convert('America/New_York')\n",
    "    data = data[data.index > pd.to_datetime('2018-07-01 04:00:00+00:00').tz_convert('America/New_York')]\n",
    "    \n",
    "    pos_ratio = round(data.sentiment_declared.sum() / len(data), 3)\n",
    "    on_acc = accuracy_score(data.sentiment_declared, data.sentiment_on)\n",
    "    vader_acc = accuracy_score(data.sentiment_declared, data.sentiment_vader)\n",
    "    bert_unb_acc = accuracy_score(data.sentiment_declared, data.sentiment_bert_unb)\n",
    "    \n",
    "    on_f1 = f1_score(data.sentiment_declared, data.sentiment_on)\n",
    "    vader_f1 = f1_score(data.sentiment_declared, data.sentiment_vader)\n",
    "    bert_unb_f1 = f1_score(data.sentiment_declared, data.sentiment_bert_unb)\n",
    "    scores.append([len(data), pos_ratio, on_acc, vader_acc, bert_unb_acc, on_f1, vader_f1, bert_unb_f1])                             "
   ]
  },
  {
   "cell_type": "code",
   "execution_count": 8,
   "metadata": {},
   "outputs": [],
   "source": [
    "scores_df = pd.DataFrame(scores, index=symbols, columns=['data_size', 'pos_ratio', 'on_acc', 'vader_acc', 'bert_unb_acc', 'on_f1', 'vader_f1', 'bert_unb_f1'])"
   ]
  },
  {
   "cell_type": "code",
   "execution_count": 14,
   "metadata": {},
   "outputs": [
    {
     "data": {
      "text/html": [
       "<div>\n",
       "<style scoped>\n",
       "    .dataframe tbody tr th:only-of-type {\n",
       "        vertical-align: middle;\n",
       "    }\n",
       "\n",
       "    .dataframe tbody tr th {\n",
       "        vertical-align: top;\n",
       "    }\n",
       "\n",
       "    .dataframe thead th {\n",
       "        text-align: right;\n",
       "    }\n",
       "</style>\n",
       "<table border=\"1\" class=\"dataframe\">\n",
       "  <thead>\n",
       "    <tr style=\"text-align: right;\">\n",
       "      <th></th>\n",
       "      <th>vader_acc</th>\n",
       "      <th>on_acc</th>\n",
       "      <th>bert_unb_acc</th>\n",
       "      <th>vader_f1</th>\n",
       "      <th>on_f1</th>\n",
       "      <th>bert_unb_f1</th>\n",
       "    </tr>\n",
       "  </thead>\n",
       "  <tbody>\n",
       "    <tr>\n",
       "      <th>btc</th>\n",
       "      <td>0.704</td>\n",
       "      <td>0.643</td>\n",
       "      <td>0.855</td>\n",
       "      <td>0.809</td>\n",
       "      <td>0.749</td>\n",
       "      <td>0.910</td>\n",
       "    </tr>\n",
       "    <tr>\n",
       "      <th>eth</th>\n",
       "      <td>0.744</td>\n",
       "      <td>0.686</td>\n",
       "      <td>0.891</td>\n",
       "      <td>0.841</td>\n",
       "      <td>0.784</td>\n",
       "      <td>0.932</td>\n",
       "    </tr>\n",
       "    <tr>\n",
       "      <th>aapl</th>\n",
       "      <td>0.651</td>\n",
       "      <td>0.588</td>\n",
       "      <td>0.813</td>\n",
       "      <td>0.755</td>\n",
       "      <td>0.671</td>\n",
       "      <td>0.869</td>\n",
       "    </tr>\n",
       "    <tr>\n",
       "      <th>spx</th>\n",
       "      <td>0.589</td>\n",
       "      <td>0.562</td>\n",
       "      <td>0.740</td>\n",
       "      <td>0.669</td>\n",
       "      <td>0.604</td>\n",
       "      <td>0.784</td>\n",
       "    </tr>\n",
       "  </tbody>\n",
       "</table>\n",
       "</div>"
      ],
      "text/plain": [
       "      vader_acc  on_acc  bert_unb_acc  vader_f1  on_f1  bert_unb_f1\n",
       "btc       0.704   0.643         0.855     0.809  0.749        0.910\n",
       "eth       0.744   0.686         0.891     0.841  0.784        0.932\n",
       "aapl      0.651   0.588         0.813     0.755  0.671        0.869\n",
       "spx       0.589   0.562         0.740     0.669  0.604        0.784"
      ]
     },
     "execution_count": 14,
     "metadata": {},
     "output_type": "execute_result"
    }
   ],
   "source": [
    "scores_df.reindex(['btc', 'eth', 'aapl', 'spx'])[['vader_acc', 'on_acc', 'bert_unb_acc', 'vader_f1', 'on_f1', 'bert_unb_f1']].round(3)"
   ]
  },
  {
   "cell_type": "code",
   "execution_count": null,
   "metadata": {},
   "outputs": [],
   "source": []
  }
 ],
 "metadata": {
  "kernelspec": {
   "display_name": "Python 3",
   "language": "python",
   "name": "python3"
  },
  "language_info": {
   "codemirror_mode": {
    "name": "ipython",
    "version": 3
   },
   "file_extension": ".py",
   "mimetype": "text/x-python",
   "name": "python",
   "nbconvert_exporter": "python",
   "pygments_lexer": "ipython3",
   "version": "3.6.8"
  }
 },
 "nbformat": 4,
 "nbformat_minor": 2
}
