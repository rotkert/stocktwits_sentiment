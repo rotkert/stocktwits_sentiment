{
 "cells": [
  {
   "cell_type": "code",
   "execution_count": 1,
   "metadata": {},
   "outputs": [],
   "source": [
    "import pandas as pd\n",
    "import numpy as np\n",
    "from scipy.stats import pearsonr"
   ]
  },
  {
   "cell_type": "code",
   "execution_count": 2,
   "metadata": {},
   "outputs": [
    {
     "data": {
      "text/html": [
       "        <script type=\"text/javascript\">\n",
       "        window.PlotlyConfig = {MathJaxConfig: 'local'};\n",
       "        if (window.MathJax) {MathJax.Hub.Config({SVG: {font: \"STIX-Web\"}});}\n",
       "        if (typeof require !== 'undefined') {\n",
       "        require.undef(\"plotly\");\n",
       "        requirejs.config({\n",
       "            paths: {\n",
       "                'plotly': ['https://cdn.plot.ly/plotly-latest.min']\n",
       "            }\n",
       "        });\n",
       "        require(['plotly'], function(Plotly) {\n",
       "            window._Plotly = Plotly;\n",
       "        });\n",
       "        }\n",
       "        </script>\n",
       "        "
      ]
     },
     "metadata": {},
     "output_type": "display_data"
    }
   ],
   "source": [
    "from plotly.offline import iplot\n",
    "import cufflinks as cf\n",
    "cf.go_offline()\n",
    "from plotly import graph_objs as go\n",
    "from plotly import tools as tls"
   ]
  },
  {
   "cell_type": "code",
   "execution_count": 3,
   "metadata": {},
   "outputs": [],
   "source": [
    "symbols =['btc', 'eth', 'aapl', 'spx']"
   ]
  },
  {
   "cell_type": "code",
   "execution_count": 4,
   "metadata": {},
   "outputs": [],
   "source": [
    "data = dict()"
   ]
  },
  {
   "cell_type": "code",
   "execution_count": 5,
   "metadata": {},
   "outputs": [],
   "source": [
    "for symbol in symbols:\n",
    "    sent = pd.read_csv('data/pred/pred_stw_brt_si1_' + symbol + '.csv', index_col=0, parse_dates=True)\n",
    "    prices = pd.read_csv('data/prices/' + symbol + '_prices.csv', index_col=0, parse_dates=True, header=None)\n",
    "    prices_sh = prices.shift(1)\n",
    "    prices_sh.iloc[0] = prices.values[0]\n",
    "    prices = np.log(prices / prices_sh)\n",
    "    data[symbol] = (sent, prices)"
   ]
  },
  {
   "cell_type": "code",
   "execution_count": 6,
   "metadata": {},
   "outputs": [
    {
     "name": "stdout",
     "output_type": "stream",
     "text": [
      "0.5113967641879527\n",
      "0.45519638618897984\n",
      "0.5024583734388073\n",
      "0.4678869965875418\n"
     ]
    }
   ],
   "source": [
    "for symbol, (sent, prices) in data.items():\n",
    "    print(pearsonr(prices.values.ravel(), sent.values.ravel())[0])"
   ]
  },
  {
   "cell_type": "code",
   "execution_count": 7,
   "metadata": {},
   "outputs": [],
   "source": [
    "index = ['lip', 'sie','wrz', 'paź', 'lis', 'gru', 'sty', 'lut', 'mar', 'kwi', 'maj', 'cze', 'lip.']\n",
    "# index = [pd.to_datetime('2018-07-01'),\n",
    "# pd.to_datetime('2018-08-01'),\n",
    "# pd.to_datetime('2018-09-01'),\n",
    "# pd.to_datetime('2018-10-01'),\n",
    "# pd.to_datetime('2018-11-01'),\n",
    "# pd.to_datetime('2018-12-01'),\n",
    "# pd.to_datetime('2019-01-01'),\n",
    "# pd.to_datetime('2019-02-01'),\n",
    "# pd.to_datetime('2019-03-01'),\n",
    "# pd.to_datetime('2019-04-01'),\n",
    "# pd.to_datetime('2019-05-01'),\n",
    "# pd.to_datetime('2019-06-01'),\n",
    "# pd.to_datetime('2019-07-01')]"
   ]
  },
  {
   "cell_type": "code",
   "execution_count": 8,
   "metadata": {},
   "outputs": [
    {
     "name": "stdout",
     "output_type": "stream",
     "text": [
      "This is the format of your plot grid:\n",
      "[ (1,1) x1,y1 ]  [ (1,2) x2,y2 ]\n",
      "[ (2,1) x3,y3 ]  [ (2,2) x4,y4 ]\n",
      "\n"
     ]
    },
    {
     "data": {
      "application/vnd.plotly.v1+json": {
       "config": {
        "linkText": "Export to plot.ly",
        "plotlyServerURL": "https://plot.ly",
        "showLink": false
       },
       "data": [
        {
         "marker": {
          "color": "rgb(0, 0, 0)"
         },
         "type": "bar",
         "uid": "cabf1a14-2548-4611-8f82-cef6e3a5910e",
         "x": [
          "lip",
          "sie",
          "wrz",
          "paź",
          "lis",
          "gru",
          "sty",
          "lut",
          "mar",
          "kwi",
          "maj",
          "cze",
          "lip."
         ],
         "xaxis": "x",
         "y": [
          0.7728317244368008,
          0.6688135201973561,
          0.6345810304548165,
          0.460540239900102,
          0.5724690039900234,
          0.5882620443494002,
          0.5936761297654123,
          0.45563898437729716,
          0.5813014453786817,
          0.5230313298335623,
          0.6566011215483359,
          0.7903661430109814,
          0.659203298825695
         ],
         "yaxis": "y"
        },
        {
         "marker": {
          "color": "rgb(0, 0, 0)"
         },
         "type": "bar",
         "uid": "a5e7f1ae-92de-46bf-9f85-0ac54f49ee86",
         "x": [
          "lip",
          "sie",
          "wrz",
          "paź",
          "lis",
          "gru",
          "sty",
          "lut",
          "mar",
          "kwi",
          "maj",
          "cze",
          "lip."
         ],
         "xaxis": "x2",
         "y": [
          0.5905144183030087,
          0.5870610054483404,
          0.6206343859462683,
          0.3312860969796439,
          0.5406364155382412,
          0.4740483306814347,
          0.5744022317081208,
          0.48437676358533976,
          0.24080205539361255,
          0.5404451351706753,
          0.5197239158032876,
          0.5005943319791575,
          0.5546349244057998
         ],
         "yaxis": "y2"
        },
        {
         "marker": {
          "color": "rgb(0, 0, 0)"
         },
         "type": "bar",
         "uid": "4e0233f1-734e-40ba-bc53-fc09660cc0e1",
         "x": [
          "lip",
          "sie",
          "wrz",
          "paź",
          "lis",
          "gru",
          "sty",
          "lut",
          "mar",
          "kwi",
          "maj",
          "cze",
          "lip."
         ],
         "xaxis": "x3",
         "y": [
          0.549068204285744,
          0.4525453183921958,
          0.7828297405617083,
          0.680661771745539,
          0.6409418732357997,
          0.7675203280033818,
          0.5117588812154978,
          0.5382717913282125,
          0.65142268322367,
          0.41165418955561,
          0.6451983756236861,
          0.5554609804620492,
          0.25873254128866124
         ],
         "yaxis": "y3"
        },
        {
         "marker": {
          "color": "rgb(0, 0, 0)"
         },
         "type": "bar",
         "uid": "0ee7055d-8fa9-4509-9145-710fd0f0c7bd",
         "x": [
          "lip",
          "sie",
          "wrz",
          "paź",
          "lis",
          "gru",
          "sty",
          "lut",
          "mar",
          "kwi",
          "maj",
          "cze",
          "lip."
         ],
         "xaxis": "x4",
         "y": [
          0.3337637582529701,
          0.668834109500849,
          0.6019184070435764,
          0.537026703676728,
          0.6997177679099991,
          0.6736104168492925,
          0.6549156249410119,
          0.6608896900644176,
          0.49916046078381315,
          0.37417657814348004,
          0.55344569011146,
          0.5086936752657609,
          0.47748612614143093
         ],
         "yaxis": "y4"
        }
       ],
       "layout": {
        "annotations": [
         {
          "font": {
           "size": 16
          },
          "showarrow": false,
          "text": "<b>BTC</b>",
          "x": 0.225,
          "xanchor": "center",
          "xref": "paper",
          "y": 1,
          "yanchor": "bottom",
          "yref": "paper"
         },
         {
          "font": {
           "size": 16
          },
          "showarrow": false,
          "text": "<b>ETH</b>",
          "x": 0.775,
          "xanchor": "center",
          "xref": "paper",
          "y": 1,
          "yanchor": "bottom",
          "yref": "paper"
         },
         {
          "font": {
           "size": 16
          },
          "showarrow": false,
          "text": "<b>AAPL</b>",
          "x": 0.225,
          "xanchor": "center",
          "xref": "paper",
          "y": 0.375,
          "yanchor": "bottom",
          "yref": "paper"
         },
         {
          "font": {
           "size": 16
          },
          "showarrow": false,
          "text": "<b>SPX</b>",
          "x": 0.775,
          "xanchor": "center",
          "xref": "paper",
          "y": 0.375,
          "yanchor": "bottom",
          "yref": "paper"
         }
        ],
        "autosize": true,
        "xaxis": {
         "anchor": "y",
         "autorange": true,
         "domain": [
          0,
          0.45
         ],
         "range": [
          -0.5,
          12.5
         ],
         "type": "category"
        },
        "xaxis2": {
         "anchor": "y2",
         "autorange": true,
         "domain": [
          0.55,
          1
         ],
         "range": [
          -0.5,
          12.5
         ],
         "type": "category"
        },
        "xaxis3": {
         "anchor": "y3",
         "autorange": true,
         "domain": [
          0,
          0.45
         ],
         "range": [
          -0.5,
          12.5
         ],
         "type": "category"
        },
        "xaxis4": {
         "anchor": "y4",
         "autorange": true,
         "domain": [
          0.55,
          1
         ],
         "range": [
          -0.5,
          12.5
         ],
         "type": "category"
        },
        "yaxis": {
         "anchor": "x",
         "autorange": true,
         "domain": [
          0.625,
          1
         ],
         "range": [
          0,
          0.8319643610641909
         ],
         "type": "linear"
        },
        "yaxis2": {
         "anchor": "x2",
         "autorange": true,
         "domain": [
          0.625,
          1
         ],
         "range": [
          0,
          0.6532993536276508
         ],
         "type": "linear"
        },
        "yaxis3": {
         "anchor": "x3",
         "autorange": true,
         "domain": [
          0,
          0.375
         ],
         "range": [
          0,
          0.8240313058544297
         ],
         "type": "linear"
        },
        "yaxis4": {
         "anchor": "x4",
         "autorange": true,
         "domain": [
          0,
          0.375
         ],
         "range": [
          0,
          0.7365450188526306
         ],
         "type": "linear"
        }
       }
      },
      "image/png": "[encoded data removed]",
      "text/html": [
       "<div>\n",
       "        \n",
       "        \n",
       "            <div id=\"aa5b27e2-4cd0-4559-bba5-7dfb912c8088\" class=\"plotly-graph-div\" style=\"height:525px; width:100%;\"></div>\n",
       "            <script type=\"text/javascript\">\n",
       "                require([\"plotly\"], function(Plotly) {\n",
       "                    window.PLOTLYENV=window.PLOTLYENV || {};\n",
       "                    window.PLOTLYENV.BASE_URL='https://plot.ly';\n",
       "                    \n",
       "                if (document.getElementById(\"aa5b27e2-4cd0-4559-bba5-7dfb912c8088\")) {\n",
       "                    Plotly.newPlot(\n",
       "                        'aa5b27e2-4cd0-4559-bba5-7dfb912c8088',\n",
       "                        [{\"marker\": {\"color\": \"rgb(0,0,0)\"}, \"type\": \"bar\", \"uid\": \"cabf1a14-2548-4611-8f82-cef6e3a5910e\", \"x\": [\"lip\", \"sie\", \"wrz\", \"pa\\u017a\", \"lis\", \"gru\", \"sty\", \"lut\", \"mar\", \"kwi\", \"maj\", \"cze\", \"lip.\"], \"xaxis\": \"x\", \"y\": [0.7728317244368008, 0.6688135201973561, 0.6345810304548165, 0.460540239900102, 0.5724690039900234, 0.5882620443494002, 0.5936761297654123, 0.45563898437729716, 0.5813014453786817, 0.5230313298335623, 0.6566011215483359, 0.7903661430109814, 0.659203298825695], \"yaxis\": \"y\"}, {\"marker\": {\"color\": \"rgb(0,0,0)\"}, \"type\": \"bar\", \"uid\": \"a5e7f1ae-92de-46bf-9f85-0ac54f49ee86\", \"x\": [\"lip\", \"sie\", \"wrz\", \"pa\\u017a\", \"lis\", \"gru\", \"sty\", \"lut\", \"mar\", \"kwi\", \"maj\", \"cze\", \"lip.\"], \"xaxis\": \"x2\", \"y\": [0.5905144183030087, 0.5870610054483404, 0.6206343859462683, 0.3312860969796439, 0.5406364155382412, 0.4740483306814347, 0.5744022317081208, 0.48437676358533976, 0.24080205539361255, 0.5404451351706753, 0.5197239158032876, 0.5005943319791575, 0.5546349244057998], \"yaxis\": \"y2\"}, {\"marker\": {\"color\": \"rgb(0,0,0)\"}, \"type\": \"bar\", \"uid\": \"4e0233f1-734e-40ba-bc53-fc09660cc0e1\", \"x\": [\"lip\", \"sie\", \"wrz\", \"pa\\u017a\", \"lis\", \"gru\", \"sty\", \"lut\", \"mar\", \"kwi\", \"maj\", \"cze\", \"lip.\"], \"xaxis\": \"x3\", \"y\": [0.549068204285744, 0.4525453183921958, 0.7828297405617083, 0.680661771745539, 0.6409418732357997, 0.7675203280033818, 0.5117588812154978, 0.5382717913282125, 0.65142268322367, 0.41165418955561, 0.6451983756236861, 0.5554609804620492, 0.25873254128866124], \"yaxis\": \"y3\"}, {\"marker\": {\"color\": \"rgb(0,0,0)\"}, \"type\": \"bar\", \"uid\": \"0ee7055d-8fa9-4509-9145-710fd0f0c7bd\", \"x\": [\"lip\", \"sie\", \"wrz\", \"pa\\u017a\", \"lis\", \"gru\", \"sty\", \"lut\", \"mar\", \"kwi\", \"maj\", \"cze\", \"lip.\"], \"xaxis\": \"x4\", \"y\": [0.3337637582529701, 0.668834109500849, 0.6019184070435764, 0.537026703676728, 0.6997177679099991, 0.6736104168492925, 0.6549156249410119, 0.6608896900644176, 0.49916046078381315, 0.37417657814348004, 0.55344569011146, 0.5086936752657609, 0.47748612614143093], \"yaxis\": \"y4\"}],\n",
       "                        {\"annotations\": [{\"font\": {\"size\": 16}, \"showarrow\": false, \"text\": \"<b>BTC</b>\", \"x\": 0.225, \"xanchor\": \"center\", \"xref\": \"paper\", \"y\": 1.0, \"yanchor\": \"bottom\", \"yref\": \"paper\"}, {\"font\": {\"size\": 16}, \"showarrow\": false, \"text\": \"<b>ETH</b>\", \"x\": 0.775, \"xanchor\": \"center\", \"xref\": \"paper\", \"y\": 1.0, \"yanchor\": \"bottom\", \"yref\": \"paper\"}, {\"font\": {\"size\": 16}, \"showarrow\": false, \"text\": \"<b>AAPL</b>\", \"x\": 0.225, \"xanchor\": \"center\", \"xref\": \"paper\", \"y\": 0.375, \"yanchor\": \"bottom\", \"yref\": \"paper\"}, {\"font\": {\"size\": 16}, \"showarrow\": false, \"text\": \"<b>SPX</b>\", \"x\": 0.775, \"xanchor\": \"center\", \"xref\": \"paper\", \"y\": 0.375, \"yanchor\": \"bottom\", \"yref\": \"paper\"}], \"xaxis\": {\"anchor\": \"y\", \"domain\": [0.0, 0.45]}, \"xaxis2\": {\"anchor\": \"y2\", \"domain\": [0.55, 1.0]}, \"xaxis3\": {\"anchor\": \"y3\", \"domain\": [0.0, 0.45]}, \"xaxis4\": {\"anchor\": \"y4\", \"domain\": [0.55, 1.0]}, \"yaxis\": {\"anchor\": \"x\", \"domain\": [0.625, 1.0]}, \"yaxis2\": {\"anchor\": \"x2\", \"domain\": [0.625, 1.0]}, \"yaxis3\": {\"anchor\": \"x3\", \"domain\": [0.0, 0.375]}, \"yaxis4\": {\"anchor\": \"x4\", \"domain\": [0.0, 0.375]}},\n",
       "                        {\"showLink\": false, \"linkText\": \"Export to plot.ly\", \"plotlyServerURL\": \"https://plot.ly\", \"responsive\": true}\n",
       "                    ).then(function(){\n",
       "                            \n",
       "var gd = document.getElementById('aa5b27e2-4cd0-4559-bba5-7dfb912c8088');\n",
       "var x = new MutationObserver(function (mutations, observer) {{\n",
       "        var display = window.getComputedStyle(gd).display;\n",
       "        if (!display || display === 'none') {{\n",
       "            console.log([gd, 'removed!']);\n",
       "            Plotly.purge(gd);\n",
       "            observer.disconnect();\n",
       "        }}\n",
       "}});\n",
       "\n",
       "// Listen for the removal of the full notebook cells\n",
       "var notebookContainer = gd.closest('#notebook-container');\n",
       "if (notebookContainer) {{\n",
       "    x.observe(notebookContainer, {childList: true});\n",
       "}}\n",
       "\n",
       "// Listen for the clearing of the current output cell\n",
       "var outputEl = gd.closest('.output');\n",
       "if (outputEl) {{\n",
       "    x.observe(outputEl, {childList: true});\n",
       "}}\n",
       "\n",
       "                        })\n",
       "                };\n",
       "                });\n",
       "            </script>\n",
       "        </div>"
      ]
     },
     "metadata": {},
     "output_type": "display_data"
    }
   ],
   "source": [
    "fig = tls.make_subplots(rows=2, cols=2, subplot_titles=['<b>BTC</b>', '<b>ETH</b>', '<b>AAPL</b>', '<b>SPX</b>'])\n",
    "i = 0\n",
    "for symbol, (sent, prices) in data.items():\n",
    "    agg = pd.concat([sent, prices], axis=1)\n",
    "    agg.columns=['sent', 'price']\n",
    "    corr = agg.groupby([prices.index.year, prices.index.month]).apply(lambda x: pearsonr(x.sent, x.price)[0])\n",
    "    trace = go.Bar(x=index, y=corr.values, marker_color='rgb(0,0,0)')\n",
    "    fig.append_trace(trace, int(i / 2) + 1, int(i % 2) + 1)\n",
    "    i += 1\n",
    "iplot(fig)"
   ]
  },
  {
   "cell_type": "code",
   "execution_count": null,
   "metadata": {},
   "outputs": [],
   "source": []
  }
 ],
 "metadata": {
  "kernelspec": {
   "display_name": "Python 3",
   "language": "python",
   "name": "python3"
  },
  "language_info": {
   "codemirror_mode": {
    "name": "ipython",
    "version": 3
   },
   "file_extension": ".py",
   "mimetype": "text/x-python",
   "name": "python",
   "nbconvert_exporter": "python",
   "pygments_lexer": "ipython3",
   "version": "3.6.8"
  }
 },
 "nbformat": 4,
 "nbformat_minor": 2
}
