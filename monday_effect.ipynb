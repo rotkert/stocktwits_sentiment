{
 "cells": [
  {
   "cell_type": "code",
   "execution_count": 1,
   "metadata": {},
   "outputs": [],
   "source": [
    "import pandas as pd"
   ]
  },
  {
   "cell_type": "code",
   "execution_count": 2,
   "metadata": {},
   "outputs": [
    {
     "data": {
      "text/html": [
       "        <script type=\"text/javascript\">\n",
       "        window.PlotlyConfig = {MathJaxConfig: 'local'};\n",
       "        if (window.MathJax) {MathJax.Hub.Config({SVG: {font: \"STIX-Web\"}});}\n",
       "        if (typeof require !== 'undefined') {\n",
       "        require.undef(\"plotly\");\n",
       "        requirejs.config({\n",
       "            paths: {\n",
       "                'plotly': ['https://cdn.plot.ly/plotly-latest.min']\n",
       "            }\n",
       "        });\n",
       "        require(['plotly'], function(Plotly) {\n",
       "            window._Plotly = Plotly;\n",
       "        });\n",
       "        }\n",
       "        </script>\n",
       "        "
      ]
     },
     "metadata": {},
     "output_type": "display_data"
    }
   ],
   "source": [
    "import cufflinks as cf\n",
    "from plotly.offline import iplot\n",
    "cf.go_offline()"
   ]
  },
  {
   "cell_type": "code",
   "execution_count": 3,
   "metadata": {},
   "outputs": [],
   "source": [
    "from plotly import graph_objs as go\n",
    "from plotly import tools as tls"
   ]
  },
  {
   "cell_type": "code",
   "execution_count": 4,
   "metadata": {},
   "outputs": [],
   "source": [
    "btc = pd.read_csv('data/pos_neg/posneg_stck_btc_decl.csv', index_col=0)\n",
    "eth = pd.read_csv('data/pos_neg/posneg_stck_eth_decl.csv', index_col=0)\n",
    "aapl = pd.read_csv('data/pos_neg/posneg_stck_aapl_decl.csv', index_col=0)\n",
    "spx = pd.read_csv('data/pos_neg/posneg_stck_spx_decl.csv', index_col=0)"
   ]
  },
  {
   "cell_type": "code",
   "execution_count": 5,
   "metadata": {},
   "outputs": [
    {
     "data": {
      "text/html": [
       "<div>\n",
       "<style scoped>\n",
       "    .dataframe tbody tr th:only-of-type {\n",
       "        vertical-align: middle;\n",
       "    }\n",
       "\n",
       "    .dataframe tbody tr th {\n",
       "        vertical-align: top;\n",
       "    }\n",
       "\n",
       "    .dataframe thead th {\n",
       "        text-align: right;\n",
       "    }\n",
       "</style>\n",
       "<table border=\"1\" class=\"dataframe\">\n",
       "  <thead>\n",
       "    <tr style=\"text-align: right;\">\n",
       "      <th></th>\n",
       "      <th>0</th>\n",
       "    </tr>\n",
       "  </thead>\n",
       "  <tbody>\n",
       "    <tr>\n",
       "      <th>pon.</th>\n",
       "      <td>0.390066</td>\n",
       "    </tr>\n",
       "    <tr>\n",
       "      <th>wt.</th>\n",
       "      <td>0.438810</td>\n",
       "    </tr>\n",
       "    <tr>\n",
       "      <th>śr.</th>\n",
       "      <td>0.465568</td>\n",
       "    </tr>\n",
       "    <tr>\n",
       "      <th>czw.</th>\n",
       "      <td>0.409130</td>\n",
       "    </tr>\n",
       "    <tr>\n",
       "      <th>pt.</th>\n",
       "      <td>0.481281</td>\n",
       "    </tr>\n",
       "    <tr>\n",
       "      <th>sob.</th>\n",
       "      <td>0.460717</td>\n",
       "    </tr>\n",
       "    <tr>\n",
       "      <th>nd.</th>\n",
       "      <td>0.431538</td>\n",
       "    </tr>\n",
       "  </tbody>\n",
       "</table>\n",
       "</div>"
      ],
      "text/plain": [
       "             0\n",
       "pon.  0.390066\n",
       "wt.   0.438810\n",
       "śr.   0.465568\n",
       "czw.  0.409130\n",
       "pt.   0.481281\n",
       "sob.  0.460717\n",
       "nd.   0.431538"
      ]
     },
     "execution_count": 5,
     "metadata": {},
     "output_type": "execute_result"
    }
   ],
   "source": [
    "btc_si = pd.DataFrame((btc.pos - btc.neg) / (btc.pos + btc.neg))\n",
    "btc_si.index = pd.to_datetime(btc.index)\n",
    "btc_mon = btc_si.groupby(btc_si.index.weekday).mean()\n",
    "btc_mon.index = ['pon.', 'wt.', 'śr.', 'czw.', 'pt.', 'sob.', 'nd.']\n",
    "btc_mon"
   ]
  },
  {
   "cell_type": "code",
   "execution_count": 6,
   "metadata": {},
   "outputs": [
    {
     "data": {
      "text/html": [
       "<div>\n",
       "<style scoped>\n",
       "    .dataframe tbody tr th:only-of-type {\n",
       "        vertical-align: middle;\n",
       "    }\n",
       "\n",
       "    .dataframe tbody tr th {\n",
       "        vertical-align: top;\n",
       "    }\n",
       "\n",
       "    .dataframe thead th {\n",
       "        text-align: right;\n",
       "    }\n",
       "</style>\n",
       "<table border=\"1\" class=\"dataframe\">\n",
       "  <thead>\n",
       "    <tr style=\"text-align: right;\">\n",
       "      <th></th>\n",
       "      <th>0</th>\n",
       "    </tr>\n",
       "  </thead>\n",
       "  <tbody>\n",
       "    <tr>\n",
       "      <th>pon.</th>\n",
       "      <td>0.446496</td>\n",
       "    </tr>\n",
       "    <tr>\n",
       "      <th>wt.</th>\n",
       "      <td>0.493162</td>\n",
       "    </tr>\n",
       "    <tr>\n",
       "      <th>śr.</th>\n",
       "      <td>0.501115</td>\n",
       "    </tr>\n",
       "    <tr>\n",
       "      <th>czw.</th>\n",
       "      <td>0.463947</td>\n",
       "    </tr>\n",
       "    <tr>\n",
       "      <th>pt.</th>\n",
       "      <td>0.565795</td>\n",
       "    </tr>\n",
       "    <tr>\n",
       "      <th>sob.</th>\n",
       "      <td>0.558819</td>\n",
       "    </tr>\n",
       "    <tr>\n",
       "      <th>nd.</th>\n",
       "      <td>0.515565</td>\n",
       "    </tr>\n",
       "  </tbody>\n",
       "</table>\n",
       "</div>"
      ],
      "text/plain": [
       "             0\n",
       "pon.  0.446496\n",
       "wt.   0.493162\n",
       "śr.   0.501115\n",
       "czw.  0.463947\n",
       "pt.   0.565795\n",
       "sob.  0.558819\n",
       "nd.   0.515565"
      ]
     },
     "execution_count": 6,
     "metadata": {},
     "output_type": "execute_result"
    }
   ],
   "source": [
    "eth_si = pd.DataFrame((eth.pos - eth.neg) / (eth.pos + eth.neg))\n",
    "eth_si.index = pd.to_datetime(eth.index)\n",
    "eth_mon = eth_si.groupby(eth_si.index.weekday).mean()\n",
    "eth_mon.index = ['pon.', 'wt.', 'śr.', 'czw.', 'pt.', 'sob.', 'nd.']\n",
    "eth_mon"
   ]
  },
  {
   "cell_type": "code",
   "execution_count": 7,
   "metadata": {},
   "outputs": [
    {
     "data": {
      "text/html": [
       "<div>\n",
       "<style scoped>\n",
       "    .dataframe tbody tr th:only-of-type {\n",
       "        vertical-align: middle;\n",
       "    }\n",
       "\n",
       "    .dataframe tbody tr th {\n",
       "        vertical-align: top;\n",
       "    }\n",
       "\n",
       "    .dataframe thead th {\n",
       "        text-align: right;\n",
       "    }\n",
       "</style>\n",
       "<table border=\"1\" class=\"dataframe\">\n",
       "  <thead>\n",
       "    <tr style=\"text-align: right;\">\n",
       "      <th></th>\n",
       "      <th>0</th>\n",
       "    </tr>\n",
       "  </thead>\n",
       "  <tbody>\n",
       "    <tr>\n",
       "      <th>pon.</th>\n",
       "      <td>0.319612</td>\n",
       "    </tr>\n",
       "    <tr>\n",
       "      <th>wt.</th>\n",
       "      <td>0.371785</td>\n",
       "    </tr>\n",
       "    <tr>\n",
       "      <th>śr.</th>\n",
       "      <td>0.353282</td>\n",
       "    </tr>\n",
       "    <tr>\n",
       "      <th>czw.</th>\n",
       "      <td>0.343646</td>\n",
       "    </tr>\n",
       "    <tr>\n",
       "      <th>pt.</th>\n",
       "      <td>0.326451</td>\n",
       "    </tr>\n",
       "  </tbody>\n",
       "</table>\n",
       "</div>"
      ],
      "text/plain": [
       "             0\n",
       "pon.  0.319612\n",
       "wt.   0.371785\n",
       "śr.   0.353282\n",
       "czw.  0.343646\n",
       "pt.   0.326451"
      ]
     },
     "execution_count": 7,
     "metadata": {},
     "output_type": "execute_result"
    }
   ],
   "source": [
    "aapl_si = pd.DataFrame((aapl.pos - aapl.neg) / (aapl.pos + aapl.neg))\n",
    "aapl_si.index = pd.to_datetime(aapl.index)\n",
    "aapl_mon = aapl_si.groupby(aapl_si.index.weekday).mean()\n",
    "aapl_mon.index = ['pon.', 'wt.', 'śr.', 'czw.', 'pt.']\n",
    "aapl_mon"
   ]
  },
  {
   "cell_type": "code",
   "execution_count": 8,
   "metadata": {},
   "outputs": [
    {
     "data": {
      "text/html": [
       "<div>\n",
       "<style scoped>\n",
       "    .dataframe tbody tr th:only-of-type {\n",
       "        vertical-align: middle;\n",
       "    }\n",
       "\n",
       "    .dataframe tbody tr th {\n",
       "        vertical-align: top;\n",
       "    }\n",
       "\n",
       "    .dataframe thead th {\n",
       "        text-align: right;\n",
       "    }\n",
       "</style>\n",
       "<table border=\"1\" class=\"dataframe\">\n",
       "  <thead>\n",
       "    <tr style=\"text-align: right;\">\n",
       "      <th></th>\n",
       "      <th>0</th>\n",
       "    </tr>\n",
       "  </thead>\n",
       "  <tbody>\n",
       "    <tr>\n",
       "      <th>pon.</th>\n",
       "      <td>0.072622</td>\n",
       "    </tr>\n",
       "    <tr>\n",
       "      <th>wt.</th>\n",
       "      <td>0.065890</td>\n",
       "    </tr>\n",
       "    <tr>\n",
       "      <th>śr.</th>\n",
       "      <td>0.024872</td>\n",
       "    </tr>\n",
       "    <tr>\n",
       "      <th>czw.</th>\n",
       "      <td>0.059273</td>\n",
       "    </tr>\n",
       "    <tr>\n",
       "      <th>pt.</th>\n",
       "      <td>0.046759</td>\n",
       "    </tr>\n",
       "  </tbody>\n",
       "</table>\n",
       "</div>"
      ],
      "text/plain": [
       "             0\n",
       "pon.  0.072622\n",
       "wt.   0.065890\n",
       "śr.   0.024872\n",
       "czw.  0.059273\n",
       "pt.   0.046759"
      ]
     },
     "execution_count": 8,
     "metadata": {},
     "output_type": "execute_result"
    }
   ],
   "source": [
    "spx_si = pd.DataFrame((spx.pos - spx.neg) / (spx.pos + spx.neg))\n",
    "spx_si.index = pd.to_datetime(spx.index)\n",
    "spx_mon = spx_si.groupby(spx_si.index.weekday).mean()\n",
    "spx_mon.index = ['pon.', 'wt.', 'śr.', 'czw.', 'pt.']\n",
    "spx_mon"
   ]
  },
  {
   "cell_type": "code",
   "execution_count": 9,
   "metadata": {},
   "outputs": [
    {
     "name": "stdout",
     "output_type": "stream",
     "text": [
      "This is the format of your plot grid:\n",
      "[ (1,1) x1,y1 ]  [ (1,2) x2,y2 ]\n",
      "[ (2,1) x3,y3 ]  [ (2,2) x4,y4 ]\n",
      "\n"
     ]
    }
   ],
   "source": [
    "fig = tls.make_subplots(rows=2, cols=2, subplot_titles=['<b>BTC</b>', '<b>ETH</b>', '<b>AAPL</b>', '<b>SPX</b>'])"
   ]
  },
  {
   "cell_type": "code",
   "execution_count": 10,
   "metadata": {},
   "outputs": [],
   "source": [
    "t1 = go.Bar(x=btc_mon.index, y=btc_mon[0], marker_color='rgb(0,0,0)', text=btc_mon[0].round(2), textposition='outside')\n",
    "t2 = go.Bar(x=eth_mon.index, y=eth_mon[0], marker_color='rgb(0,0,0)', text=eth_mon[0].round(2), textposition='outside')\n",
    "t3 = go.Bar(x=aapl_mon.index, y=aapl_mon[0], marker_color='rgb(0,0,0)', text=aapl_mon[0].round(2), textposition='outside')\n",
    "t4 = go.Bar(x=spx_mon.index, y=spx_mon[0], marker_color='rgb(0,0,0)', text=spx_mon[0].round(3), textposition='outside')"
   ]
  },
  {
   "cell_type": "code",
   "execution_count": 11,
   "metadata": {},
   "outputs": [],
   "source": [
    "fig.append_trace(t1, 1, 1)\n",
    "fig.append_trace(t2, 1, 2)\n",
    "fig.append_trace(t3, 2, 1)\n",
    "fig.append_trace(t4, 2, 2)"
   ]
  },
  {
   "cell_type": "code",
   "execution_count": 12,
   "metadata": {},
   "outputs": [
    {
     "data": {
      "application/vnd.plotly.v1+json": {
       "config": {
        "linkText": "Export to plot.ly",
        "plotlyServerURL": "https://plot.ly",
        "showLink": false
       },
       "data": [
        {
         "marker": {
          "color": "rgb(0, 0, 0)"
         },
         "text": [
          0.39,
          0.44,
          0.47,
          0.41,
          0.48,
          0.46,
          0.43
         ],
         "textposition": "outside",
         "type": "bar",
         "uid": "9f617a9c-5ae1-4d5b-a6f8-04dda42865c5",
         "x": [
          "pon.",
          "wt.",
          "śr.",
          "czw.",
          "pt.",
          "sob.",
          "nd."
         ],
         "xaxis": "x",
         "y": [
          0.39006634750889285,
          0.43881022965988076,
          0.4655678981720308,
          0.409129733108081,
          0.4812808748888681,
          0.46071663685784303,
          0.43153845181595124
         ],
         "yaxis": "y"
        },
        {
         "marker": {
          "color": "rgb(0, 0, 0)"
         },
         "text": [
          0.45,
          0.49,
          0.5,
          0.46,
          0.57,
          0.56,
          0.52
         ],
         "textposition": "outside",
         "type": "bar",
         "uid": "920b691f-995d-402b-87c1-2420e251e156",
         "x": [
          "pon.",
          "wt.",
          "śr.",
          "czw.",
          "pt.",
          "sob.",
          "nd."
         ],
         "xaxis": "x2",
         "y": [
          0.4464956300248162,
          0.49316208002426654,
          0.5011151843189855,
          0.46394725496119593,
          0.5657950359011186,
          0.5588194331731168,
          0.515564893643253
         ],
         "yaxis": "y2"
        },
        {
         "marker": {
          "color": "rgb(0, 0, 0)"
         },
         "text": [
          0.32,
          0.37,
          0.35,
          0.34,
          0.33
         ],
         "textposition": "outside",
         "type": "bar",
         "uid": "9673eef3-d33e-42dc-b415-7b9d111e8073",
         "x": [
          "pon.",
          "wt.",
          "śr.",
          "czw.",
          "pt."
         ],
         "xaxis": "x3",
         "y": [
          0.31961215371198765,
          0.37178533751959203,
          0.3532824050875326,
          0.3436458376514262,
          0.3264509201685522
         ],
         "yaxis": "y3"
        },
        {
         "marker": {
          "color": "rgb(0, 0, 0)"
         },
         "text": [
          0.073,
          0.066,
          0.025,
          0.059,
          0.047
         ],
         "textposition": "outside",
         "type": "bar",
         "uid": "8e655a54-3db3-4df2-af71-ab86de69e4a0",
         "x": [
          "pon.",
          "wt.",
          "śr.",
          "czw.",
          "pt."
         ],
         "xaxis": "x4",
         "y": [
          0.07262231339702124,
          0.06589004038886857,
          0.024871530816785004,
          0.05927301304305189,
          0.046759128381473294
         ],
         "yaxis": "y4"
        }
       ],
       "layout": {
        "annotations": [
         {
          "font": {
           "size": 16
          },
          "showarrow": false,
          "text": "<b>BTC</b>",
          "x": 0.225,
          "xanchor": "center",
          "xref": "paper",
          "y": 1,
          "yanchor": "bottom",
          "yref": "paper"
         },
         {
          "font": {
           "size": 16
          },
          "showarrow": false,
          "text": "<b>ETH</b>",
          "x": 0.775,
          "xanchor": "center",
          "xref": "paper",
          "y": 1,
          "yanchor": "bottom",
          "yref": "paper"
         },
         {
          "font": {
           "size": 16
          },
          "showarrow": false,
          "text": "<b>AAPL</b>",
          "x": 0.225,
          "xanchor": "center",
          "xref": "paper",
          "y": 0.375,
          "yanchor": "bottom",
          "yref": "paper"
         },
         {
          "font": {
           "size": 16
          },
          "showarrow": false,
          "text": "<b>SPX</b>",
          "x": 0.775,
          "xanchor": "center",
          "xref": "paper",
          "y": 0.375,
          "yanchor": "bottom",
          "yref": "paper"
         }
        ],
        "autosize": true,
        "dragmode": "pan",
        "xaxis": {
         "anchor": "y",
         "autorange": false,
         "domain": [
          0,
          0.45
         ],
         "range": [
          -0.5,
          6.5
         ],
         "type": "category"
        },
        "xaxis2": {
         "anchor": "y2",
         "autorange": false,
         "domain": [
          0.55,
          1
         ],
         "range": [
          -0.5,
          6.5
         ],
         "type": "category"
        },
        "xaxis3": {
         "anchor": "y3",
         "autorange": false,
         "domain": [
          0,
          0.45
         ],
         "range": [
          -0.5,
          4.5
         ],
         "type": "category"
        },
        "xaxis4": {
         "anchor": "y4",
         "autorange": false,
         "domain": [
          0.55,
          1
         ],
         "range": [
          -0.5,
          4.5
         ],
         "type": "category"
        },
        "yaxis": {
         "anchor": "x",
         "autorange": false,
         "domain": [
          0.625,
          1
         ],
         "range": [
          0.1350963859337174,
          0.6417078331851576
         ],
         "type": "linear"
        },
        "yaxis2": {
         "anchor": "x2",
         "autorange": false,
         "domain": [
          0.625,
          1
         ],
         "range": [
          0.0823509344001628,
          0.6779246564013403
         ],
         "type": "linear"
        },
        "yaxis3": {
         "anchor": "x3",
         "autorange": false,
         "domain": [
          0,
          0.375
         ],
         "range": [
          0.06957386433115173,
          0.46092685119388016
         ],
         "type": "linear"
        },
        "yaxis4": {
         "anchor": "x4",
         "autorange": false,
         "domain": [
          0,
          0.375
         ],
         "range": [
          0.014345148325337528,
          0.09078968874325462
         ],
         "type": "linear"
        }
       }
      },
      "image/png": "[encoded data removed]",
      "text/html": [
       "<div>\n",
       "        \n",
       "        \n",
       "            <div id=\"49b60981-af9f-49b1-b924-c5df44f905ff\" class=\"plotly-graph-div\" style=\"height:525px; width:100%;\"></div>\n",
       "            <script type=\"text/javascript\">\n",
       "                require([\"plotly\"], function(Plotly) {\n",
       "                    window.PLOTLYENV=window.PLOTLYENV || {};\n",
       "                    window.PLOTLYENV.BASE_URL='https://plot.ly';\n",
       "                    \n",
       "                if (document.getElementById(\"49b60981-af9f-49b1-b924-c5df44f905ff\")) {\n",
       "                    Plotly.newPlot(\n",
       "                        '49b60981-af9f-49b1-b924-c5df44f905ff',\n",
       "                        [{\"marker\": {\"color\": \"rgb(0,0,0)\"}, \"text\": [0.39, 0.44, 0.47, 0.41, 0.48, 0.46, 0.43], \"textposition\": \"outside\", \"type\": \"bar\", \"uid\": \"9f617a9c-5ae1-4d5b-a6f8-04dda42865c5\", \"x\": [\"pon.\", \"wt.\", \"\\u015br.\", \"czw.\", \"pt.\", \"sob.\", \"nd.\"], \"xaxis\": \"x\", \"y\": [0.39006634750889285, 0.43881022965988076, 0.4655678981720308, 0.409129733108081, 0.4812808748888681, 0.46071663685784303, 0.43153845181595124], \"yaxis\": \"y\"}, {\"marker\": {\"color\": \"rgb(0,0,0)\"}, \"text\": [0.45, 0.49, 0.5, 0.46, 0.57, 0.56, 0.52], \"textposition\": \"outside\", \"type\": \"bar\", \"uid\": \"920b691f-995d-402b-87c1-2420e251e156\", \"x\": [\"pon.\", \"wt.\", \"\\u015br.\", \"czw.\", \"pt.\", \"sob.\", \"nd.\"], \"xaxis\": \"x2\", \"y\": [0.4464956300248162, 0.49316208002426654, 0.5011151843189855, 0.46394725496119593, 0.5657950359011186, 0.5588194331731168, 0.515564893643253], \"yaxis\": \"y2\"}, {\"marker\": {\"color\": \"rgb(0,0,0)\"}, \"text\": [0.32, 0.37, 0.35, 0.34, 0.33], \"textposition\": \"outside\", \"type\": \"bar\", \"uid\": \"9673eef3-d33e-42dc-b415-7b9d111e8073\", \"x\": [\"pon.\", \"wt.\", \"\\u015br.\", \"czw.\", \"pt.\"], \"xaxis\": \"x3\", \"y\": [0.31961215371198765, 0.37178533751959203, 0.3532824050875326, 0.3436458376514262, 0.3264509201685522], \"yaxis\": \"y3\"}, {\"marker\": {\"color\": \"rgb(0,0,0)\"}, \"text\": [0.073, 0.066, 0.025, 0.059, 0.047], \"textposition\": \"outside\", \"type\": \"bar\", \"uid\": \"8e655a54-3db3-4df2-af71-ab86de69e4a0\", \"x\": [\"pon.\", \"wt.\", \"\\u015br.\", \"czw.\", \"pt.\"], \"xaxis\": \"x4\", \"y\": [0.07262231339702124, 0.06589004038886857, 0.024871530816785004, 0.05927301304305189, 0.046759128381473294], \"yaxis\": \"y4\"}],\n",
       "                        {\"annotations\": [{\"font\": {\"size\": 16}, \"showarrow\": false, \"text\": \"<b>BTC</b>\", \"x\": 0.225, \"xanchor\": \"center\", \"xref\": \"paper\", \"y\": 1.0, \"yanchor\": \"bottom\", \"yref\": \"paper\"}, {\"font\": {\"size\": 16}, \"showarrow\": false, \"text\": \"<b>ETH</b>\", \"x\": 0.775, \"xanchor\": \"center\", \"xref\": \"paper\", \"y\": 1.0, \"yanchor\": \"bottom\", \"yref\": \"paper\"}, {\"font\": {\"size\": 16}, \"showarrow\": false, \"text\": \"<b>AAPL</b>\", \"x\": 0.225, \"xanchor\": \"center\", \"xref\": \"paper\", \"y\": 0.375, \"yanchor\": \"bottom\", \"yref\": \"paper\"}, {\"font\": {\"size\": 16}, \"showarrow\": false, \"text\": \"<b>SPX</b>\", \"x\": 0.775, \"xanchor\": \"center\", \"xref\": \"paper\", \"y\": 0.375, \"yanchor\": \"bottom\", \"yref\": \"paper\"}], \"xaxis\": {\"anchor\": \"y\", \"domain\": [0.0, 0.45]}, \"xaxis2\": {\"anchor\": \"y2\", \"domain\": [0.55, 1.0]}, \"xaxis3\": {\"anchor\": \"y3\", \"domain\": [0.0, 0.45]}, \"xaxis4\": {\"anchor\": \"y4\", \"domain\": [0.55, 1.0]}, \"yaxis\": {\"anchor\": \"x\", \"domain\": [0.625, 1.0]}, \"yaxis2\": {\"anchor\": \"x2\", \"domain\": [0.625, 1.0]}, \"yaxis3\": {\"anchor\": \"x3\", \"domain\": [0.0, 0.375]}, \"yaxis4\": {\"anchor\": \"x4\", \"domain\": [0.0, 0.375]}},\n",
       "                        {\"showLink\": false, \"linkText\": \"Export to plot.ly\", \"plotlyServerURL\": \"https://plot.ly\", \"responsive\": true}\n",
       "                    ).then(function(){\n",
       "                            \n",
       "var gd = document.getElementById('49b60981-af9f-49b1-b924-c5df44f905ff');\n",
       "var x = new MutationObserver(function (mutations, observer) {{\n",
       "        var display = window.getComputedStyle(gd).display;\n",
       "        if (!display || display === 'none') {{\n",
       "            console.log([gd, 'removed!']);\n",
       "            Plotly.purge(gd);\n",
       "            observer.disconnect();\n",
       "        }}\n",
       "}});\n",
       "\n",
       "// Listen for the removal of the full notebook cells\n",
       "var notebookContainer = gd.closest('#notebook-container');\n",
       "if (notebookContainer) {{\n",
       "    x.observe(notebookContainer, {childList: true});\n",
       "}}\n",
       "\n",
       "// Listen for the clearing of the current output cell\n",
       "var outputEl = gd.closest('.output');\n",
       "if (outputEl) {{\n",
       "    x.observe(outputEl, {childList: true});\n",
       "}}\n",
       "\n",
       "                        })\n",
       "                };\n",
       "                });\n",
       "            </script>\n",
       "        </div>"
      ]
     },
     "metadata": {},
     "output_type": "display_data"
    }
   ],
   "source": [
    "iplot(fig)"
   ]
  },
  {
   "cell_type": "code",
   "execution_count": null,
   "metadata": {},
   "outputs": [],
   "source": []
  }
 ],
 "metadata": {
  "kernelspec": {
   "display_name": "Python 3",
   "language": "python",
   "name": "python3"
  },
  "language_info": {
   "codemirror_mode": {
    "name": "ipython",
    "version": 3
   },
   "file_extension": ".py",
   "mimetype": "text/x-python",
   "name": "python",
   "nbconvert_exporter": "python",
   "pygments_lexer": "ipython3",
   "version": "3.6.8"
  }
 },
 "nbformat": 4,
 "nbformat_minor": 2
}
