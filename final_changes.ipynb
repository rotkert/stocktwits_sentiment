{
 "cells": [
  {
   "cell_type": "code",
   "execution_count": 63,
   "metadata": {},
   "outputs": [],
   "source": [
    "import pandas as pd\n",
    "import numpy as np"
   ]
  },
  {
   "cell_type": "code",
   "execution_count": 2,
   "metadata": {},
   "outputs": [
    {
     "data": {
      "text/html": [
       "<script type=\"text/javascript\">window.PlotlyConfig = {MathJaxConfig: 'local'};</script><script type=\"text/javascript\">if (window.MathJax) {MathJax.Hub.Config({SVG: {font: \"STIX-Web\"}});}</script><script>requirejs.config({paths: { 'plotly': ['https://cdn.plot.ly/plotly-latest.min']},});if(!window._Plotly) {require(['plotly'],function(plotly) {window._Plotly=plotly;});}</script>"
      ],
      "text/vnd.plotly.v1+html": [
       "<script type=\"text/javascript\">window.PlotlyConfig = {MathJaxConfig: 'local'};</script><script type=\"text/javascript\">if (window.MathJax) {MathJax.Hub.Config({SVG: {font: \"STIX-Web\"}});}</script><script>requirejs.config({paths: { 'plotly': ['https://cdn.plot.ly/plotly-latest.min']},});if(!window._Plotly) {require(['plotly'],function(plotly) {window._Plotly=plotly;});}</script>"
      ]
     },
     "metadata": {},
     "output_type": "display_data"
    }
   ],
   "source": [
    "from plotly.offline import iplot\n",
    "import cufflinks as cf\n",
    "cf.go_offline()"
   ]
  },
  {
   "cell_type": "code",
   "execution_count": 24,
   "metadata": {},
   "outputs": [],
   "source": [
    "import warnings\n",
    "warnings.filterwarnings('ignore')"
   ]
  },
  {
   "cell_type": "code",
   "execution_count": 3,
   "metadata": {},
   "outputs": [
    {
     "name": "stderr",
     "output_type": "stream",
     "text": [
      "Using TensorFlow backend.\n"
     ]
    }
   ],
   "source": [
    "from keras.preprocessing.sequence import TimeseriesGenerator"
   ]
  },
  {
   "cell_type": "code",
   "execution_count": 114,
   "metadata": {},
   "outputs": [],
   "source": [
    "from sklearn.preprocessing import StandardScaler\n",
    "from sklearn.linear_model import LogisticRegression\n",
    "from sklearn.metrics import accuracy_score, roc_auc_score"
   ]
  },
  {
   "cell_type": "code",
   "execution_count": 6,
   "metadata": {},
   "outputs": [],
   "source": [
    "symbols = ['btc', 'eth', 'aapl', 'spx']"
   ]
  },
  {
   "cell_type": "code",
   "execution_count": 7,
   "metadata": {},
   "outputs": [
    {
     "data": {
      "text/plain": [
       "'C:/Users/Comarch/Desktop/miko_work/'"
      ]
     },
     "execution_count": 7,
     "metadata": {},
     "output_type": "execute_result"
    }
   ],
   "source": [
    "'C:/Users/Comarch/Desktop/miko_work/'"
   ]
  },
  {
   "cell_type": "code",
   "execution_count": 8,
   "metadata": {},
   "outputs": [],
   "source": [
    "import os"
   ]
  },
  {
   "cell_type": "code",
   "execution_count": 164,
   "metadata": {},
   "outputs": [],
   "source": [
    "from xgboost import XGBClassifier"
   ]
  },
  {
   "cell_type": "code",
   "execution_count": 170,
   "metadata": {},
   "outputs": [
    {
     "name": "stdout",
     "output_type": "stream",
     "text": [
      "pred_sto_all_si1_btc.csv 0.6255482456140351\n",
      "pred_sto_all_si2_btc.csv 0.6337719298245614\n",
      "pred_sto_all_si3_btc.csv 0.5932017543859649\n",
      "pred_sto_fbp_si1_btc.csv 0.6129385964912281\n",
      "pred_sto_fbp_si2_btc.csv 0.6129385964912281\n",
      "pred_sto_fbp_si3_btc.csv 0.6080043859649122\n",
      "pred_sto_rea_all_btc.csv 0.5427631578947368\n",
      "pred_sto_rea_fbp_btc.csv 0.5904605263157894\n",
      "pred_sto_rea_twt_btc.csv 0.5021929824561404\n",
      "pred_sto_twt_si1_btc.csv 0.5899122807017544\n",
      "pred_sto_twt_si2_btc.csv 0.5921052631578947\n",
      "pred_sto_twt_si3_btc.csv 0.5959429824561403\n",
      "pred_sto_vol_all_btc.csv 0.6348684210526315\n",
      "pred_sto_vol_fbp_btc.csv 0.5855263157894737\n",
      "pred_sto_vol_twt_btc.csv 0.569078947368421\n",
      "pred_stw_brt_si1_btc.csv 0.6282894736842105\n",
      "pred_stw_brt_si2_btc.csv 0.5970394736842105\n",
      "pred_stw_brt_si3_btc.csv 0.638157894736842\n",
      "pred_stw_dcl_si1_btc.csv 0.6266447368421053\n",
      "pred_stw_dcl_si2_btc.csv 0.5948464912280701\n",
      "pred_stw_dcl_si3_btc.csv 0.6425438596491228\n",
      "pred_stw_vol_brt_btc.csv 0.5241228070175438\n",
      "pred_stw_vol_dcl_btc.csv 0.5345394736842105\n"
     ]
    }
   ],
   "source": [
    "for file in os.listdir('C:/Users/Comarch/Desktop/miko_work/pred'):\n",
    "    symbol = file.split('.')[0].split('_')[4]\n",
    "    if symbol=='btc':\n",
    "        data = pd.read_csv('C:/Users/Comarch/Desktop/miko_work/pred/' + file, index_col=0, parse_dates=True)\n",
    "        changes = pd.read_csv('C:/Users/Comarch/Desktop/miko_work/changes/' + symbol + '_changes.csv', index_col=0, parse_dates=True)\n",
    "        roll = pd.read_csv('C:/Users/Comarch/Desktop/miko_work/roll/' + symbol + '_roll.csv', index_col=0, parse_dates=True)\n",
    "#         volume = pd.read_csv('C:/Users/Comarch/Desktop/miko_work/pred/pred_stw_vol_brt_' + symbol + '.csv', index_col=0, parse_dates=True)\n",
    "#         data = pd.concat([data.iloc[:, 0], volume.iloc[:, 0]], axis=1)\n",
    "        \n",
    "        data_train = data[data.index < pd.to_datetime('2019-05-01')]\n",
    "        data_test = data[data.index >= pd.to_datetime('2019-05-01')]\n",
    "        changes_train = changes[changes.index < pd.to_datetime('2019-05-01')]\n",
    "        changes_test = changes[changes.index >= pd.to_datetime('2019-05-01')]\n",
    "        roll_train = roll[roll.index < pd.to_datetime('2019-05-01')]\n",
    "        roll_test = roll[roll.index >= pd.to_datetime('2019-05-01')]\n",
    "        \n",
    "        tg_train = TimeseriesGenerator(data_train.values, changes_train.values, 3, batch_size=len(data_train))\n",
    "        x_train, y_train = tg_train[0]\n",
    "        x_train = x_train.reshape(-1, x_train.shape[1] * x_train.shape[2])\n",
    "        y_train = y_train.reshape(-1)\n",
    "        \n",
    "        tg_test = TimeseriesGenerator(data_test.values, changes_test.values, 3, batch_size=len(data_test))\n",
    "        x_test, y_test = tg_test[0]\n",
    "        x_test = x_test.reshape(-1, x_test.shape[1] * x_test.shape[2])\n",
    "        y_test = y_test.reshape(-1)\n",
    "        \n",
    "        x_train = np.append(x_train, roll_train[2:-1], axis=1)\n",
    "        x_test = np.append(x_test, roll_test[2:-1], axis=1)\n",
    "        \n",
    "        scaler = StandardScaler()\n",
    "        x_train = scaler.fit_transform(x_train)\n",
    "        x_test = scaler.transform(x_test)\n",
    "        \n",
    "        model = LogisticRegression()\n",
    "        model.fit(x_train, y_train)\n",
    "        prob = model.predict_proba(x_test)[:, 1]\n",
    "        acc = roc_auc_score(y_test, prob)\n",
    "        print(file, str(acc))"
   ]
  },
  {
   "cell_type": "code",
   "execution_count": null,
   "metadata": {},
   "outputs": [],
   "source": []
  }
 ],
 "metadata": {
  "kernelspec": {
   "display_name": "Python 3",
   "language": "python",
   "name": "python3"
  },
  "language_info": {
   "codemirror_mode": {
    "name": "ipython",
    "version": 3
   },
   "file_extension": ".py",
   "mimetype": "text/x-python",
   "name": "python",
   "nbconvert_exporter": "python",
   "pygments_lexer": "ipython3",
   "version": "3.6.7"
  }
 },
 "nbformat": 4,
 "nbformat_minor": 2
}
