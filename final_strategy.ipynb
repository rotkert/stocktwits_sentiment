{
 "cells": [
  {
   "cell_type": "code",
   "execution_count": 2,
   "metadata": {},
   "outputs": [],
   "source": [
    "import pandas as pd"
   ]
  },
  {
   "cell_type": "code",
   "execution_count": 3,
   "metadata": {},
   "outputs": [
    {
     "data": {
      "text/html": [
       "        <script type=\"text/javascript\">\n",
       "        window.PlotlyConfig = {MathJaxConfig: 'local'};\n",
       "        if (window.MathJax) {MathJax.Hub.Config({SVG: {font: \"STIX-Web\"}});}\n",
       "        if (typeof require !== 'undefined') {\n",
       "        require.undef(\"plotly\");\n",
       "        requirejs.config({\n",
       "            paths: {\n",
       "                'plotly': ['https://cdn.plot.ly/plotly-latest.min']\n",
       "            }\n",
       "        });\n",
       "        require(['plotly'], function(Plotly) {\n",
       "            window._Plotly = Plotly;\n",
       "        });\n",
       "        }\n",
       "        </script>\n",
       "        "
      ]
     },
     "metadata": {},
     "output_type": "display_data"
    }
   ],
   "source": [
    "from plotly.offline import iplot\n",
    "import cufflinks as cf\n",
    "cf.go_offline()"
   ]
  },
  {
   "cell_type": "code",
   "execution_count": 525,
   "metadata": {},
   "outputs": [],
   "source": [
    "symbol = 'btc'"
   ]
  },
  {
   "cell_type": "code",
   "execution_count": 526,
   "metadata": {},
   "outputs": [],
   "source": [
    "data = pd.read_csv('data/pred/pred_stw_brt_si1_' + symbol + '.csv', index_col=0, parse_dates=True)[1:]\n",
    "prices = pd.read_csv('data/prices_open/prices_open_' + symbol + '.csv', index_col=0, parse_dates=True)[1:]"
   ]
  },
  {
   "cell_type": "code",
   "execution_count": 527,
   "metadata": {},
   "outputs": [],
   "source": [
    "data = data - data.min()\n",
    "data = data / data.max()\n",
    "data = data * 2 - 1"
   ]
  },
  {
   "cell_type": "code",
   "execution_count": 528,
   "metadata": {},
   "outputs": [
    {
     "data": {
      "text/plain": [
       "0.46040904944628314"
      ]
     },
     "execution_count": 528,
     "metadata": {},
     "output_type": "execute_result"
    }
   ],
   "source": [
    "(prices.price_open[-1] - prices.price_open[0]) / prices.price_open[0]"
   ]
  },
  {
   "cell_type": "code",
   "execution_count": 529,
   "metadata": {},
   "outputs": [
    {
     "name": "stdout",
     "output_type": "stream",
     "text": [
      "214663.81645525736 1.1466381645525736\n"
     ]
    }
   ],
   "source": [
    "th = 0.25\n",
    "dec_history = []\n",
    "capital = 100000\n",
    "assets = 0\n",
    "for s, p in zip(data.pred[:-1], prices.price_open):\n",
    "    decision = 0\n",
    "    if s > th:\n",
    "        decision = 1\n",
    "    if s < -th:\n",
    "        decision = -1\n",
    "    \n",
    "    if decision == 1 and capital > 0:\n",
    "        assets = capital / p\n",
    "        capital = 0\n",
    "    elif decision == -1 and assets > 0:\n",
    "        capital = assets * p\n",
    "        assets = 0\n",
    "    dec_history.append([s, decision, capital, p, assets])\n",
    "final = max(capital, assets * prices.price_open[-1]) \n",
    "print(final, (final - 100000) / 100000)"
   ]
  },
  {
   "cell_type": "code",
   "execution_count": 391,
   "metadata": {},
   "outputs": [],
   "source": [
    "pd.DataFrame(dec_history, columns=['sent', 'decision', 'capital', 'price', 'assets']).replace({'decision' : {1 : 'buy', -1 : 'sell'}}).to_csv('tmp_dec_history.csv')"
   ]
  },
  {
   "cell_type": "code",
   "execution_count": null,
   "metadata": {},
   "outputs": [],
   "source": []
  }
 ],
 "metadata": {
  "kernelspec": {
   "display_name": "Python 3",
   "language": "python",
   "name": "python3"
  },
  "language_info": {
   "codemirror_mode": {
    "name": "ipython",
    "version": 3
   },
   "file_extension": ".py",
   "mimetype": "text/x-python",
   "name": "python",
   "nbconvert_exporter": "python",
   "pygments_lexer": "ipython3",
   "version": "3.6.8"
  }
 },
 "nbformat": 4,
 "nbformat_minor": 2
}
